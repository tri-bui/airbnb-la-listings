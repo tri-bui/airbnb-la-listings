{
 "cells": [
  {
   "cell_type": "code",
   "execution_count": null,
   "metadata": {},
   "outputs": [],
   "source": []
  },
  {
   "cell_type": "code",
   "execution_count": null,
   "metadata": {},
   "outputs": [],
   "source": [
    "# Average listing price by neighborhood (for listings under $1,000)\n",
    "prices = listings[listings.price < 1000].groupby('neighbourhood_cleansed')[['price']].mean().reset_index()\n",
    "prices.columns = ['name', 'price']\n",
    "\n",
    "# LA neighborhood Geojson\n",
    "with open('data/la-county-neighborhoods-current.geojson') as geo:\n",
    "    nh = json.load(geo)\n",
    "\n",
    "fig = px.choropleth_mapbox(prices, geojson=nh, color='price', locations='name', featureidkey='properties.name', \n",
    "                           center={'lat': 34.20, 'lon': -118.25}, zoom=8.5, color_continuous_scale=\"Viridis\", range_color=(0, 300),\n",
    "                           height=800)\n",
    "fig.show()"
   ]
  }
 ],
 "metadata": {
  "kernelspec": {
   "display_name": "Python 3",
   "language": "python",
   "name": "python3"
  },
  "language_info": {
   "codemirror_mode": {
    "name": "ipython",
    "version": 3
   },
   "file_extension": ".py",
   "mimetype": "text/x-python",
   "name": "python",
   "nbconvert_exporter": "python",
   "pygments_lexer": "ipython3",
   "version": "3.8.3"
  }
 },
 "nbformat": 4,
 "nbformat_minor": 4
}
